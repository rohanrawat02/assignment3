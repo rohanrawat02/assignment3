{
 "cells": [
  {
   "cell_type": "code",
   "execution_count": 1,
   "id": "b5a5d046-322e-4dfe-abf7-a07bef30634a",
   "metadata": {},
   "outputs": [],
   "source": [
    "#QUES1 #def keyword is used to create a function "
   ]
  },
  {
   "cell_type": "code",
   "execution_count": 14,
   "id": "e281c44e-bc94-47db-8e61-5c90b0df166c",
   "metadata": {},
   "outputs": [],
   "source": [
    "def o_fun(x):\n",
    "    oddvalues= [i for i in range (1,26) if i%2!=0]\n",
    "    return oddvalues\n",
    "    "
   ]
  },
  {
   "cell_type": "code",
   "execution_count": 19,
   "id": "d132bbb4-8099-465e-91cd-2589eded5ffe",
   "metadata": {},
   "outputs": [
    {
     "name": "stdout",
     "output_type": "stream",
     "text": [
      "[1, 3, 5, 7, 9, 11, 13, 15, 17, 19, 21, 23, 25]\n"
     ]
    }
   ],
   "source": [
    "x= o_fun(x)\n",
    "print(x)"
   ]
  },
  {
   "cell_type": "code",
   "execution_count": 21,
   "id": "9a13ab9a-ffab-485f-a7ed-551d361f19e1",
   "metadata": {},
   "outputs": [],
   "source": [
    "#q2\n",
    "#*args is used as a parameter in a function definition, it collects all the additional positional arguements passed\n",
    "#to the function into a tuple.\n",
    "#**kwargsis a convention, but you can use any valid variable name receded by two asterisks(**).\n",
    "\n",
    "def n_numbers(*args):\n",
    "    total=0\n",
    "    for num  in args:\n",
    "        total+=num\n",
    "        return total \n",
    "    result = sm_numbers(1,2,3,4,5)\n",
    "    print(result)\n",
    "    \n"
   ]
  },
  {
   "cell_type": "code",
   "execution_count": 25,
   "id": "c9dc9c48-8d53-4928-9ac9-8c1d196e7dbe",
   "metadata": {},
   "outputs": [
    {
     "ename": "NameError",
     "evalue": "name 'kwargs' is not defined",
     "output_type": "error",
     "traceback": [
      "\u001b[0;31m---------------------------------------------------------------------------\u001b[0m",
      "\u001b[0;31mNameError\u001b[0m                                 Traceback (most recent call last)",
      "Cell \u001b[0;32mIn[25], line 4\u001b[0m\n\u001b[1;32m      2\u001b[0m     \u001b[38;5;28;01mfor\u001b[39;00m key , value \u001b[38;5;129;01min\u001b[39;00m kwargs\u001b[38;5;241m.\u001b[39mitems():\n\u001b[1;32m      3\u001b[0m         \u001b[38;5;28mprint\u001b[39m(\u001b[38;5;124mf\u001b[39m\u001b[38;5;124m\"\u001b[39m\u001b[38;5;132;01m{\u001b[39;00mkey\u001b[38;5;132;01m}\u001b[39;00m\u001b[38;5;124m:\u001b[39m\u001b[38;5;132;01m{\u001b[39;00mvalue\u001b[38;5;132;01m}\u001b[39;00m\u001b[38;5;124m\"\u001b[39m)\n\u001b[0;32m----> 4\u001b[0m \u001b[43mprint_info\u001b[49m\u001b[43m(\u001b[49m\u001b[43mname\u001b[49m\u001b[38;5;241;43m=\u001b[39;49m\u001b[38;5;124;43m\"\u001b[39;49m\u001b[38;5;124;43mjohn\u001b[39;49m\u001b[38;5;124;43m\"\u001b[39;49m\u001b[43m,\u001b[49m\u001b[43m \u001b[49m\u001b[43mage\u001b[49m\u001b[38;5;241;43m=\u001b[39;49m\u001b[38;5;241;43m30\u001b[39;49m\u001b[43m,\u001b[49m\u001b[43m \u001b[49m\u001b[43mcity\u001b[49m\u001b[38;5;241;43m=\u001b[39;49m\u001b[38;5;124;43m\"\u001b[39;49m\u001b[38;5;124;43mnew york\u001b[39;49m\u001b[38;5;124;43m\"\u001b[39;49m\u001b[43m)\u001b[49m\n",
      "Cell \u001b[0;32mIn[25], line 2\u001b[0m, in \u001b[0;36mprint_info\u001b[0;34m(**kwags)\u001b[0m\n\u001b[1;32m      1\u001b[0m \u001b[38;5;28;01mdef\u001b[39;00m \u001b[38;5;21mprint_info\u001b[39m(\u001b[38;5;241m*\u001b[39m\u001b[38;5;241m*\u001b[39mkwags):\n\u001b[0;32m----> 2\u001b[0m     \u001b[38;5;28;01mfor\u001b[39;00m key , value \u001b[38;5;129;01min\u001b[39;00m \u001b[43mkwargs\u001b[49m\u001b[38;5;241m.\u001b[39mitems():\n\u001b[1;32m      3\u001b[0m         \u001b[38;5;28mprint\u001b[39m(\u001b[38;5;124mf\u001b[39m\u001b[38;5;124m\"\u001b[39m\u001b[38;5;132;01m{\u001b[39;00mkey\u001b[38;5;132;01m}\u001b[39;00m\u001b[38;5;124m:\u001b[39m\u001b[38;5;132;01m{\u001b[39;00mvalue\u001b[38;5;132;01m}\u001b[39;00m\u001b[38;5;124m\"\u001b[39m)\n",
      "\u001b[0;31mNameError\u001b[0m: name 'kwargs' is not defined"
     ]
    }
   ],
   "source": [
    "def print_info(**kwags):\n",
    "    for key , value in kwargs.items():\n",
    "        print(f\"{key}:{value}\")\n",
    "print_info(name=\"john\", age=30, city=\"new york\")"
   ]
  },
  {
   "cell_type": "code",
   "execution_count": 26,
   "id": "e2472c88-49f9-4b6c-93f4-2d44d077d30e",
   "metadata": {},
   "outputs": [
    {
     "name": "stdout",
     "output_type": "stream",
     "text": [
      "2\n",
      "4\n",
      "6\n",
      "8\n",
      "10\n"
     ]
    }
   ],
   "source": [
    "#ques 3#to create an iterator object, you can use the iter() method,\n",
    "# and to iterate over the elements, you can use the next() method.\n",
    "\n",
    "# Create the iterator object\n",
    "my_list = [2, 4, 6, 8, 10, 12, 14, 16, 18, 20]\n",
    "my_iterator = iter(my_list)\n",
    "\n",
    "# Iterate and print the first five elements\n",
    "for i in range(5):\n",
    "    element = next(my_iterator)\n",
    "    print(element)\n"
   ]
  },
  {
   "cell_type": "code",
   "execution_count": 27,
   "id": "85b80c08-dce3-4a0f-b743-f4eaf810aec5",
   "metadata": {},
   "outputs": [
    {
     "data": {
      "text/plain": [
       "'ques4 a generator function is a special type of function that allows you to define\\nan iterator in a more concise and memory-efficient way. Instead of returning the entire result as a list or other data \\nstructure, a generator function uses the yield keyword \\nto produce values one at a time when requested, making it memory-friendly for large data sets or infinite sequences.'"
      ]
     },
     "execution_count": 27,
     "metadata": {},
     "output_type": "execute_result"
    }
   ],
   "source": [
    "\"\"\"ques4 a generator function is a special type of function that allows you to define\n",
    "an iterator in a more concise and memory-efficient way. Instead of returning the entire result as a list or other data \n",
    "structure, a generator function uses the yield keyword \n",
    "to produce values one at a time when requested, making it memory-friendly for large data sets or infinite sequences.\"\"\""
   ]
  },
  {
   "cell_type": "code",
   "execution_count": 37,
   "id": "d20dcdcc-6eab-4d12-a1f3-8f1ac7e749d7",
   "metadata": {},
   "outputs": [
    {
     "name": "stdout",
     "output_type": "stream",
     "text": [
      "0\n",
      "2\n",
      "4\n",
      "6\n",
      "8\n",
      "10\n"
     ]
    }
   ],
   "source": [
    "def even_numbers_up_to(limit):\n",
    "    num = 0\n",
    "    while num <= limit:\n",
    "        yield num\n",
    "        num += 2\n",
    "\n",
    "# Using the generator function to print even numbers up to 10\n",
    "generator = even_numbers_up_to(10)\n",
    "for num in generator:\n",
    "    print(num)\n"
   ]
  },
  {
   "cell_type": "code",
   "execution_count": 1,
   "id": "5fe9f1e3-ab01-456f-9127-879872d74893",
   "metadata": {},
   "outputs": [
    {
     "name": "stdout",
     "output_type": "stream",
     "text": [
      "2\n",
      "3\n",
      "5\n",
      "7\n",
      "11\n",
      "13\n",
      "17\n",
      "19\n",
      "23\n",
      "29\n",
      "31\n",
      "37\n",
      "41\n",
      "43\n",
      "47\n",
      "53\n",
      "59\n",
      "61\n",
      "67\n",
      "71\n"
     ]
    }
   ],
   "source": [
    "#q5\n",
    "def is_prime(n):\n",
    "    if n <= 1:\n",
    "        return False\n",
    "    for i in range(2, int(n ** 0.5) + 1):\n",
    "        if n % i == 0:\n",
    "            return False\n",
    "    return True\n",
    "\n",
    "def prime_generator():\n",
    "    num = 2\n",
    "    while num < 1000:\n",
    "        if is_prime(num):\n",
    "            yield num\n",
    "        num += 1\n",
    "\n",
    "# Using the generator to print the first 20 prime numbers\n",
    "prime_gen = prime_generator()\n",
    "for _ in range(20):\n",
    "    print(next(prime_gen))\n"
   ]
  },
  {
   "cell_type": "code",
   "execution_count": 10,
   "id": "f41a7147-a478-4e56-8352-99b1e41f7497",
   "metadata": {},
   "outputs": [
    {
     "name": "stdout",
     "output_type": "stream",
     "text": [
      "[0, 1, 1, 2, 3, 5, 8, 13, 21, 34]\n"
     ]
    }
   ],
   "source": [
    "ques6\n",
    "def fibonacci(n):\n",
    "    if n <= 0:\n",
    "        return []\n",
    "    elif n == 1:\n",
    "        return [0]\n",
    "    elif n == 2:\n",
    "        return [0, 1]\n",
    "    else:\n",
    "        fib_nums = [0, 1]\n",
    "        while len(fib_nums) < n:\n",
    "            next_num = fib_nums[-1] + fib_nums[-2]\n",
    "            fib_nums.append(next_num)\n",
    "        return fib_nums\n",
    "\n",
    "# Printing the first 10 Fibonacci numbers\n",
    "first_10_fibonacci = fibonacci(10)\n",
    "print(first_10_fibonacci)\n"
   ]
  },
  {
   "cell_type": "code",
   "execution_count": 11,
   "id": "a92f3f5e-d80a-4a54-8a77-f1a812bd4535",
   "metadata": {},
   "outputs": [
    {
     "name": "stdout",
     "output_type": "stream",
     "text": [
      "['p', 'w', 's', 'k', 'i', 'l', 'l', 's']\n"
     ]
    }
   ],
   "source": [
    "#ques7\n",
    "input_string = 'pwskills'\n",
    "output_list = [char for char in input_string if char in 'pwskills']\n",
    "print(output_list)\n"
   ]
  },
  {
   "cell_type": "code",
   "execution_count": 12,
   "id": "ec826594-0ce1-4a7b-9f08-0d439ea15424",
   "metadata": {},
   "outputs": [
    {
     "name": "stdin",
     "output_type": "stream",
     "text": [
      "Enter a number to check if it's a palindrome:  7887\n"
     ]
    },
    {
     "name": "stdout",
     "output_type": "stream",
     "text": [
      "7887 is a palindrome.\n"
     ]
    }
   ],
   "source": [
    "#ques8\n",
    "def is_palindrome(num):\n",
    "    original_num = num\n",
    "    reversed_num = 0\n",
    "\n",
    "    while num > 0:\n",
    "        remainder = num % 10\n",
    "        reversed_num = reversed_num * 10 + remainder\n",
    "        num = num // 10\n",
    "\n",
    "    return original_num == reversed_num\n",
    "\n",
    "# Test the function\n",
    "num_to_check = int(input(\"Enter a number to check if it's a palindrome: \"))\n",
    "if is_palindrome(num_to_check):\n",
    "    print(f\"{num_to_check} is a palindrome.\")\n",
    "else:\n",
    "    print(f\"{num_to_check} is not a palindrome.\")\n"
   ]
  },
  {
   "cell_type": "code",
   "execution_count": 13,
   "id": "901b6117-ce5c-490b-92b3-e42f9fe6cbe0",
   "metadata": {},
   "outputs": [
    {
     "name": "stdout",
     "output_type": "stream",
     "text": [
      "[1, 3, 5, 7, 9, 11, 13, 15, 17, 19, 21, 23, 25, 27, 29, 31, 33, 35, 37, 39, 41, 43, 45, 47, 49, 51, 53, 55, 57, 59, 61, 63, 65, 67, 69, 71, 73, 75, 77, 79, 81, 83, 85, 87, 89, 91, 93, 95, 97, 99]\n"
     ]
    }
   ],
   "source": [
    "#ques9\n",
    "# Using list comprehension to create a list from 1 to 100\n",
    "numbers_list = [num for num in range(1, 101)]\n",
    "\n",
    "# Using another list comprehension to filter out the odd numbers\n",
    "odd_numbers_list = [num for num in numbers_list if num % 2 != 0]\n",
    "\n",
    "# Printing the list of odd numbers\n",
    "print(odd_numbers_list)\n"
   ]
  },
  {
   "cell_type": "code",
   "execution_count": null,
   "id": "3a2383da-66b0-4afb-a643-133621f604f4",
   "metadata": {},
   "outputs": [],
   "source": []
  }
 ],
 "metadata": {
  "kernelspec": {
   "display_name": "Python 3 (ipykernel)",
   "language": "python",
   "name": "python3"
  },
  "language_info": {
   "codemirror_mode": {
    "name": "ipython",
    "version": 3
   },
   "file_extension": ".py",
   "mimetype": "text/x-python",
   "name": "python",
   "nbconvert_exporter": "python",
   "pygments_lexer": "ipython3",
   "version": "3.10.8"
  }
 },
 "nbformat": 4,
 "nbformat_minor": 5
}
